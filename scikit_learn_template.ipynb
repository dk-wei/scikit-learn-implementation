{
  "nbformat": 4,
  "nbformat_minor": 0,
  "metadata": {
    "colab": {
      "name": "scikit-learn template.ipynb",
      "provenance": []
    },
    "kernelspec": {
      "name": "python3",
      "display_name": "Python 3"
    },
    "language_info": {
      "name": "python"
    }
  },
  "cells": [
    {
      "cell_type": "markdown",
      "metadata": {
        "id": "NFtEbMofSC7w"
      },
      "source": [
        "Source blog: [机器学习超详细实践攻略: 使用scikit-learn构建模型的通用模板](https://zhuanlan.zhihu.com/p/88729124)\n",
        "\n",
        "# 加载数据集合\n",
        "\n",
        "假设你在这时候已经完成了所有的data cleaning, feature engineering的工作了。"
      ]
    },
    {
      "cell_type": "code",
      "metadata": {
        "id": "BkYiAs2jP16m"
      },
      "source": [
        "from sklearn.datasets import load_iris\n",
        "data = load_iris()\n",
        "x = data.data\n",
        "y = data.target"
      ],
      "execution_count": 1,
      "outputs": []
    },
    {
      "cell_type": "code",
      "metadata": {
        "id": "7wJd2As2P12-"
      },
      "source": [
        "from sklearn.model_selection import train_test_split\n",
        "train_x,test_x,train_y,test_y = train_test_split(x,y,\n",
        "                                                 test_size=0.1,\n",
        "                                                 random_state=0, \n",
        "                                                 stratify = y\n",
        "                                                 )"
      ],
      "execution_count": 24,
      "outputs": []
    },
    {
      "cell_type": "code",
      "metadata": {
        "colab": {
          "base_uri": "https://localhost:8080/"
        },
        "id": "5oUfJjhSTXZn",
        "outputId": "b68539dc-4d29-4bf6-fffe-5f5aa7733883"
      },
      "source": [
        "train_x[:10], train_y[:10]"
      ],
      "execution_count": 25,
      "outputs": [
        {
          "output_type": "execute_result",
          "data": {
            "text/plain": [
              "(array([[5.7, 2.9, 4.2, 1.3],\n",
              "        [6.7, 3.3, 5.7, 2.5],\n",
              "        [6.2, 3.4, 5.4, 2.3],\n",
              "        [4.4, 3. , 1.3, 0.2],\n",
              "        [6.3, 2.5, 4.9, 1.5],\n",
              "        [6.9, 3.1, 4.9, 1.5],\n",
              "        [6.7, 3.1, 4.4, 1.4],\n",
              "        [6.9, 3.1, 5.4, 2.1],\n",
              "        [5. , 3.4, 1.5, 0.2],\n",
              "        [5.2, 4.1, 1.5, 0.1]]), array([1, 2, 2, 0, 1, 1, 1, 2, 0, 0]))"
            ]
          },
          "metadata": {
            "tags": []
          },
          "execution_count": 25
        }
      ]
    },
    {
      "cell_type": "markdown",
      "metadata": {
        "id": "rxNY5NjwVIF_"
      },
      "source": [
        "# 万能模板V1.0——助你快速构建一个基本的算法模型"
      ]
    },
    {
      "cell_type": "markdown",
      "metadata": {
        "id": "MMLmySb5VRml"
      },
      "source": [
        "![](https://pic2.zhimg.com/v2-efed6fb2d82738cd80f1554f9b619d4d_r.jpg)"
      ]
    },
    {
      "cell_type": "code",
      "metadata": {
        "colab": {
          "base_uri": "https://localhost:8080/"
        },
        "id": "u8Tc2OtAP10W",
        "outputId": "a7143afb-f930-49a4-a66e-26759d96faaa"
      },
      "source": [
        "### svm分类器\n",
        "\n",
        "from sklearn.svm import SVC\n",
        "from sklearn.metrics import accuracy_score\n",
        "\n",
        "svm_model = SVC()\n",
        "\n",
        "# fit我们的training data\n",
        "svm_model.fit(train_x,train_y)\n",
        "\n",
        "pred1 = svm_model.predict(train_x)\n",
        "accuracy1 = accuracy_score(train_y,pred1)\n",
        "print('在训练集上的精确度: %.4f'%accuracy1)\n",
        "\n",
        "pred2 = svm_model.predict(test_x)\n",
        "accuracy2 = accuracy_score(test_y,pred2)\n",
        "print('在测试集上的精确度: %.4f'%accuracy2)"
      ],
      "execution_count": 26,
      "outputs": [
        {
          "output_type": "stream",
          "text": [
            "在训练集上的精确度: 0.9481\n",
            "在测试集上的精确度: 1.0000\n"
          ],
          "name": "stdout"
        }
      ]
    },
    {
      "cell_type": "code",
      "metadata": {
        "colab": {
          "base_uri": "https://localhost:8080/"
        },
        "id": "aRd0HYCYP1xw",
        "outputId": "842958ba-f46e-42f5-a75b-8f3223ae5f52"
      },
      "source": [
        "### LogisticRegression分类器\n",
        "\n",
        "from sklearn.linear_model import LogisticRegression\n",
        "from sklearn.metrics import accuracy_score #评分函数用精确度评估\n",
        "\n",
        "lr_model = LogisticRegression()\n",
        "\n",
        "lr_model.fit(train_x,train_y)\n",
        "\n",
        "pred1 = lr_model.predict(train_x)\n",
        "accuracy1 = accuracy_score(train_y,pred1)\n",
        "print('在训练集上的精确度: %.4f'%accuracy1)\n",
        "\n",
        "pred2 = lr_model.predict(test_x)\n",
        "accuracy2 = accuracy_score(test_y,pred2)\n",
        "print('在测试集上的精确度: %.4f'%accuracy2)"
      ],
      "execution_count": 27,
      "outputs": [
        {
          "output_type": "stream",
          "text": [
            "在训练集上的精确度: 0.9704\n",
            "在测试集上的精确度: 1.0000\n"
          ],
          "name": "stdout"
        },
        {
          "output_type": "stream",
          "text": [
            "/usr/local/lib/python3.7/dist-packages/sklearn/linear_model/_logistic.py:940: ConvergenceWarning: lbfgs failed to converge (status=1):\n",
            "STOP: TOTAL NO. of ITERATIONS REACHED LIMIT.\n",
            "\n",
            "Increase the number of iterations (max_iter) or scale the data as shown in:\n",
            "    https://scikit-learn.org/stable/modules/preprocessing.html\n",
            "Please also refer to the documentation for alternative solver options:\n",
            "    https://scikit-learn.org/stable/modules/linear_model.html#logistic-regression\n",
            "  extra_warning_msg=_LOGISTIC_SOLVER_CONVERGENCE_MSG)\n"
          ],
          "name": "stderr"
        }
      ]
    },
    {
      "cell_type": "code",
      "metadata": {
        "id": "4y6pyoTjP1wK"
      },
      "source": [
        ""
      ],
      "execution_count": 27,
      "outputs": []
    },
    {
      "cell_type": "markdown",
      "metadata": {
        "id": "waHi3R_kW4uU"
      },
      "source": [
        "# 万能模板V2.0版——加入交叉验证，让算法模型评估更加科学"
      ]
    },
    {
      "cell_type": "markdown",
      "metadata": {
        "id": "rUhhTxi0XReo"
      },
      "source": [
        "在1.0版的模板中，当你多次运行同一个程序就会发现：每次运行得到的精确度并不相同，而是在一定范围内浮动，这是因为数据输入模型之前会进行选择，每次训练时数据输入模型的顺序都不一样。所以即使是同一个程序，模型最后的表现也会有好有坏。\n",
        "\n",
        "更糟糕的是，有些情况下，在训练集上，通过调整参数设置使模型的性能达到了最佳状态，但在测试集上却可能出现过拟合的情况。 这个时候，我们在训练集上得到的评分不能有效反映出模型的泛化性能。\n",
        "\n",
        "为了解决上述两个问题，还应该在训练集上划分出验证集(validation set)并结合交叉验证来解决。首先，在训练集中划分出不参与训练的验证集，只是在模型训练完成以后对模型进行评估，接着再在测试集上进行最后的评估。\n",
        "\n",
        "但这样大大减少了可用于模型学习的样本数量，所以还需要采用交叉验证的方式多训练几次。比如说最常用的k-折交叉验证如下图所示，它主要是将训练集划分为 k 个较小的集合。然后将k-1份训练子集作为训练集训练模型，将剩余的 1 份训练集子集作为验证集用于模型验证。这样需要训练k次，最后在训练集上的评估得分取所有训练结果评估得分的平均值。\n",
        "\n",
        "![](https://pic4.zhimg.com/80/v2-46ba9e927a578e55ae83c05b464d1cdb_720w.jpg)\n",
        "\n",
        "这样一方面可以让训练集的所有数据都参与训练，另一方面也通过多次计算得到了一个比较有代表性的得分。唯一的缺点就是计算代价很高，增加了k倍的计算量。\n",
        "\n",
        "原理就是这样，但理想很丰满，现实很骨干。在自己实现的时候却有一个很大的难题摆在面前：怎么能够把训练集均匀地划分为K份？\n",
        "\n",
        "这个问题不用思考太多，既然别忘了，我们现在是站在巨人的肩膀上，scikit-learn已经将优秀的数学家所想到的均匀拆分方法和程序员的智慧融合在了cross_val_score() 这个函数里了，只需要调用该函数即可，不需要自己想什么拆分算法，也不用写for循环进行循环训练。\n",
        "\n",
        "万能模板2.0如下：\n",
        "\n",
        "![](https://vdn1.vzuu.com/SD/d100bfe0-ec2d-11ea-acfd-5ab503a75443.mp4?disable_local_cache=1&auth_key=1619058817-0-0-4073046231bc83ed8116253c20b85d50&f=mp4&bu=pico&expiration=1619058817&v=hw)\n",
        "\n",
        "**使用cross-validation，计算精准度等指标都是采用的平均值**。"
      ]
    },
    {
      "cell_type": "code",
      "metadata": {
        "colab": {
          "base_uri": "https://localhost:8080/"
        },
        "id": "4Yq-LeSxP1sI",
        "outputId": "3d6acab1-e98e-4219-a8ec-4d5dee138143"
      },
      "source": [
        "### svm分类器\n",
        "\n",
        "from sklearn.metrics import make_scorer, accuracy_score, precision_score, recall_score, f1_score\n",
        "from sklearn.model_selection import cross_val_score, KFold\n",
        "from sklearn.svm import SVC\n",
        "\n",
        "svm_model = SVC()\n",
        "svm_model.fit(train_x,train_y)\n",
        "\n",
        "kfold = KFold(n_splits=5, random_state=42)\n",
        "\n",
        "scores1 = cross_val_score(svm_model,train_x,train_y,cv=5, scoring='accuracy')     # 也可以选择除了accuracy之外的metrics\n",
        "\n",
        "# 输出精确度的平均值和置信度区间\n",
        "print(\"训练集上的平均精确度: %0.2f (+/- %0.2f)\" % (scores1.mean(), scores1.std() * 2))\n",
        "\n",
        "scores2 = cross_val_score(svm_model,test_x,test_y,cv=5, scoring='accuracy')\n",
        "\n",
        "# 输出精确度的平均值和置信度区间\n",
        "print(\"测试集上的平均精确度: %0.2f (+/- %0.2f)\" % (scores2.mean(), scores2.std() * 2))\n",
        "\n",
        "print(scores1)\n",
        "print(scores2)"
      ],
      "execution_count": 41,
      "outputs": [
        {
          "output_type": "stream",
          "text": [
            "训练集上的平均精确度: 0.95 (+/- 0.11)\n",
            "测试集上的平均精确度: 1.00 (+/- 0.00)\n",
            "[1.         0.92592593 0.85185185 0.96296296 1.        ]\n",
            "[1. 1. 1. 1. 1.]\n"
          ],
          "name": "stdout"
        },
        {
          "output_type": "stream",
          "text": [
            "/usr/local/lib/python3.7/dist-packages/sklearn/model_selection/_split.py:296: FutureWarning: Setting a random_state has no effect since shuffle is False. This will raise an error in 0.24. You should leave random_state to its default (None), or set shuffle=True.\n",
            "  FutureWarning\n"
          ],
          "name": "stderr"
        }
      ]
    },
    {
      "cell_type": "code",
      "metadata": {
        "colab": {
          "base_uri": "https://localhost:8080/"
        },
        "id": "QQbPKjZwP1mp",
        "outputId": "28a1a01f-1852-4f0a-83c3-db3890bfc162"
      },
      "source": [
        "### LogisticRegression分类器\n",
        "\n",
        "from sklearn.model_selection import cross_val_score\n",
        "from sklearn.linear_model import LogisticRegression\n",
        "\n",
        "\n",
        "lr_model = LogisticRegression()\n",
        "lr_model.fit(train_x,train_y)\n",
        "\n",
        "scores1 = cross_val_score(lr_model,train_x,train_y,cv=5, scoring='accuracy')\n",
        "# 输出精确度的平均值和置信度区间\n",
        "print(\"训练集上的平均精确度: %0.2f (+/- %0.2f)\" % (scores1.mean(), scores1.std() * 2))\n",
        "\n",
        "scores2 = cross_val_score(lr_model,test_x,test_y,cv=5, scoring='accuracy')\n",
        "# 输出精确度的平均值和置信度区间\n",
        "print(\"测试集上的平均精确度: %0.2f (+/- %0.2f)\" % (scores2.mean(), scores2.std() * 2))\n",
        "\n",
        "\n",
        "print(scores1)\n",
        "print(scores2)"
      ],
      "execution_count": 42,
      "outputs": [
        {
          "output_type": "stream",
          "text": [
            "/usr/local/lib/python3.7/dist-packages/sklearn/linear_model/_logistic.py:940: ConvergenceWarning: lbfgs failed to converge (status=1):\n",
            "STOP: TOTAL NO. of ITERATIONS REACHED LIMIT.\n",
            "\n",
            "Increase the number of iterations (max_iter) or scale the data as shown in:\n",
            "    https://scikit-learn.org/stable/modules/preprocessing.html\n",
            "Please also refer to the documentation for alternative solver options:\n",
            "    https://scikit-learn.org/stable/modules/linear_model.html#logistic-regression\n",
            "  extra_warning_msg=_LOGISTIC_SOLVER_CONVERGENCE_MSG)\n",
            "/usr/local/lib/python3.7/dist-packages/sklearn/linear_model/_logistic.py:940: ConvergenceWarning: lbfgs failed to converge (status=1):\n",
            "STOP: TOTAL NO. of ITERATIONS REACHED LIMIT.\n",
            "\n",
            "Increase the number of iterations (max_iter) or scale the data as shown in:\n",
            "    https://scikit-learn.org/stable/modules/preprocessing.html\n",
            "Please also refer to the documentation for alternative solver options:\n",
            "    https://scikit-learn.org/stable/modules/linear_model.html#logistic-regression\n",
            "  extra_warning_msg=_LOGISTIC_SOLVER_CONVERGENCE_MSG)\n",
            "/usr/local/lib/python3.7/dist-packages/sklearn/linear_model/_logistic.py:940: ConvergenceWarning: lbfgs failed to converge (status=1):\n",
            "STOP: TOTAL NO. of ITERATIONS REACHED LIMIT.\n",
            "\n",
            "Increase the number of iterations (max_iter) or scale the data as shown in:\n",
            "    https://scikit-learn.org/stable/modules/preprocessing.html\n",
            "Please also refer to the documentation for alternative solver options:\n",
            "    https://scikit-learn.org/stable/modules/linear_model.html#logistic-regression\n",
            "  extra_warning_msg=_LOGISTIC_SOLVER_CONVERGENCE_MSG)\n",
            "/usr/local/lib/python3.7/dist-packages/sklearn/linear_model/_logistic.py:940: ConvergenceWarning: lbfgs failed to converge (status=1):\n",
            "STOP: TOTAL NO. of ITERATIONS REACHED LIMIT.\n",
            "\n",
            "Increase the number of iterations (max_iter) or scale the data as shown in:\n",
            "    https://scikit-learn.org/stable/modules/preprocessing.html\n",
            "Please also refer to the documentation for alternative solver options:\n",
            "    https://scikit-learn.org/stable/modules/linear_model.html#logistic-regression\n",
            "  extra_warning_msg=_LOGISTIC_SOLVER_CONVERGENCE_MSG)\n"
          ],
          "name": "stderr"
        },
        {
          "output_type": "stream",
          "text": [
            "训练集上的平均精确度: 0.96 (+/- 0.07)\n",
            "测试集上的平均精确度: 1.00 (+/- 0.00)\n",
            "[1.         0.92592593 0.92592593 0.92592593 1.        ]\n",
            "[1. 1. 1. 1. 1.]\n"
          ],
          "name": "stdout"
        }
      ]
    },
    {
      "cell_type": "code",
      "metadata": {
        "id": "GK1oLWSEP1px"
      },
      "source": [
        ""
      ],
      "execution_count": 28,
      "outputs": []
    },
    {
      "cell_type": "markdown",
      "metadata": {
        "id": "bImSjsVybFvq"
      },
      "source": [
        "# 万能模板V3.0版——调参让算法表现更上一层楼\n",
        "\n",
        "以上都是通过算法的默认参数来训练模型的，不同的数据集适用的参数难免会不一样，自己设计算法是设计不来的，只能调调参这样子，调参，是广大算法工程师最后的尊严。再说，若是做算法不调参，岂不是辱没了算法工程师在江湖上大名鼎鼎的“炼丹工程师”的名声？\n",
        "\n",
        "scikit-learn对于不同的算法也提供了不同的参数可以自己调节。如果细说起来，又能写好几篇文章，本文目的是构建一个万能算法框架构建模板，所以，这里只介绍一下一个通用的自动化调参方法，至于更细节的每个算法对应参数的含义以及手动调参方法，会在以后的文章中结合实例具体慢慢介绍。\n",
        "\n",
        "![](https://pic4.zhimg.com/80/v2-7b53a61f956bc71328d5e482deb08f77_720w.jpg)"
      ]
    },
    {
      "cell_type": "code",
      "metadata": {
        "colab": {
          "base_uri": "https://localhost:8080/"
        },
        "id": "pPLcAiUmP1iU",
        "outputId": "23a9a8d6-9a52-4716-b9f2-682e6f768fb5"
      },
      "source": [
        "SVC().get_params()"
      ],
      "execution_count": 7,
      "outputs": [
        {
          "output_type": "execute_result",
          "data": {
            "text/plain": [
              "{'C': 1.0,\n",
              " 'break_ties': False,\n",
              " 'cache_size': 200,\n",
              " 'class_weight': None,\n",
              " 'coef0': 0.0,\n",
              " 'decision_function_shape': 'ovr',\n",
              " 'degree': 3,\n",
              " 'gamma': 'scale',\n",
              " 'kernel': 'rbf',\n",
              " 'max_iter': -1,\n",
              " 'probability': False,\n",
              " 'random_state': None,\n",
              " 'shrinking': True,\n",
              " 'tol': 0.001,\n",
              " 'verbose': False}"
            ]
          },
          "metadata": {
            "tags": []
          },
          "execution_count": 7
        }
      ]
    },
    {
      "cell_type": "code",
      "metadata": {
        "colab": {
          "base_uri": "https://localhost:8080/"
        },
        "id": "5YlP_8gAP1gr",
        "outputId": "edcc8606-a7ce-4e30-82ae-124f5dce9c5c"
      },
      "source": [
        "###1、svm分类器\n",
        "from sklearn.model_selection import cross_val_score, GridSearchCV\n",
        "from sklearn.svm import SVC\n",
        "\n",
        "svm_model = SVC()\n",
        "\n",
        "params = [\n",
        "        {'kernel': ['linear'], 'C': [1, 10, 100, 100]},\n",
        "        {'kernel': ['poly'], 'C': [1], 'degree': [2, 3]},\n",
        "        {'kernel': ['rbf'], 'C': [1, 10, 100, 100], 'gamma':[1, 0.1, 0.01, 0.001]}\n",
        "        ]\n",
        "\n",
        "best_model = GridSearchCV(svm_model,           # 模型\n",
        "                          param_grid=params,   # 参数\n",
        "                          cv = 5,              # cross validation\n",
        "                          scoring = 'accuracy',\n",
        "                          verbose = 1,\n",
        "                          n_jobs = 2\n",
        "                          )\n",
        "\n",
        "best_model.fit(train_x,train_y)"
      ],
      "execution_count": 48,
      "outputs": [
        {
          "output_type": "stream",
          "text": [
            "Fitting 5 folds for each of 22 candidates, totalling 110 fits\n"
          ],
          "name": "stdout"
        },
        {
          "output_type": "stream",
          "text": [
            "[Parallel(n_jobs=2)]: Using backend LokyBackend with 2 concurrent workers.\n",
            "[Parallel(n_jobs=2)]: Done 110 out of 110 | elapsed:    0.2s finished\n"
          ],
          "name": "stderr"
        },
        {
          "output_type": "execute_result",
          "data": {
            "text/plain": [
              "GridSearchCV(cv=5, error_score=nan,\n",
              "             estimator=SVC(C=1.0, break_ties=False, cache_size=200,\n",
              "                           class_weight=None, coef0=0.0,\n",
              "                           decision_function_shape='ovr', degree=3,\n",
              "                           gamma='scale', kernel='rbf', max_iter=-1,\n",
              "                           probability=False, random_state=None, shrinking=True,\n",
              "                           tol=0.001, verbose=False),\n",
              "             iid='deprecated', n_jobs=2,\n",
              "             param_grid=[{'C': [1, 10, 100, 100], 'kernel': ['linear']},\n",
              "                         {'C': [1], 'degree': [2, 3], 'kernel': ['poly']},\n",
              "                         {'C': [1, 10, 100, 100],\n",
              "                          'gamma': [1, 0.1, 0.01, 0.001], 'kernel': ['rbf']}],\n",
              "             pre_dispatch='2*n_jobs', refit=True, return_train_score=False,\n",
              "             scoring='accuracy', verbose=1)"
            ]
          },
          "metadata": {
            "tags": []
          },
          "execution_count": 48
        }
      ]
    },
    {
      "cell_type": "code",
      "metadata": {
        "colab": {
          "base_uri": "https://localhost:8080/"
        },
        "id": "vhq3f1NrP1ct",
        "outputId": "6dcf5e2d-a71e-420d-f4dd-d36c73d6bbc6"
      },
      "source": [
        "best_model.best_score_"
      ],
      "execution_count": 49,
      "outputs": [
        {
          "output_type": "execute_result",
          "data": {
            "text/plain": [
              "0.962962962962963"
            ]
          },
          "metadata": {
            "tags": []
          },
          "execution_count": 49
        }
      ]
    },
    {
      "cell_type": "code",
      "metadata": {
        "colab": {
          "base_uri": "https://localhost:8080/"
        },
        "id": "9n9BYFBsP1aH",
        "outputId": "8faad453-5056-4a01-de63-f7ac36b09139"
      },
      "source": [
        "best_model.best_params_ "
      ],
      "execution_count": 50,
      "outputs": [
        {
          "output_type": "execute_result",
          "data": {
            "text/plain": [
              "{'C': 100, 'gamma': 0.001, 'kernel': 'rbf'}"
            ]
          },
          "metadata": {
            "tags": []
          },
          "execution_count": 50
        }
      ]
    },
    {
      "cell_type": "code",
      "metadata": {
        "colab": {
          "base_uri": "https://localhost:8080/"
        },
        "id": "HeWOX6K_P1X0",
        "outputId": "71a0d32a-af7d-4149-b08b-df712b0c7306"
      },
      "source": [
        "best_model.best_estimator_ "
      ],
      "execution_count": 51,
      "outputs": [
        {
          "output_type": "execute_result",
          "data": {
            "text/plain": [
              "SVC(C=100, break_ties=False, cache_size=200, class_weight=None, coef0=0.0,\n",
              "    decision_function_shape='ovr', degree=3, gamma=0.001, kernel='rbf',\n",
              "    max_iter=-1, probability=False, random_state=None, shrinking=True,\n",
              "    tol=0.001, verbose=False)"
            ]
          },
          "metadata": {
            "tags": []
          },
          "execution_count": 51
        }
      ]
    },
    {
      "cell_type": "code",
      "metadata": {
        "colab": {
          "base_uri": "https://localhost:8080/"
        },
        "id": "9T0T1KIwP1Vb",
        "outputId": "ae2530c5-10c0-4b00-a18e-54a5d1a560c0"
      },
      "source": [
        "best_model.cv_results_"
      ],
      "execution_count": 52,
      "outputs": [
        {
          "output_type": "execute_result",
          "data": {
            "text/plain": [
              "{'mean_fit_time': array([0.00095983, 0.00117593, 0.00299048, 0.00099072, 0.00085754,\n",
              "        0.00088077, 0.00229282, 0.00092692, 0.00353055, 0.00215845,\n",
              "        0.00120778, 0.00102868, 0.00105143, 0.00113893, 0.00113878,\n",
              "        0.00088267, 0.00080271, 0.00167861, 0.00158057, 0.00094194,\n",
              "        0.00120282, 0.00121121]),\n",
              " 'mean_score_time': array([0.0015595 , 0.00051808, 0.00058961, 0.00048409, 0.00094042,\n",
              "        0.00048914, 0.00054021, 0.0005259 , 0.00061035, 0.00084376,\n",
              "        0.00053945, 0.00070391, 0.00056367, 0.00055709, 0.0005928 ,\n",
              "        0.00051947, 0.00051746, 0.00055542, 0.0014246 , 0.0008132 ,\n",
              "        0.00056229, 0.00159359]),\n",
              " 'mean_test_score': array([0.95555556, 0.94074074, 0.95555556, 0.95555556, 0.95555556,\n",
              "        0.94814815, 0.94074074, 0.94814815, 0.92592593, 0.91111111,\n",
              "        0.95555556, 0.94814815, 0.95555556, 0.93333333, 0.94814815,\n",
              "        0.94814815, 0.95555556, 0.96296296, 0.94814815, 0.94814815,\n",
              "        0.95555556, 0.96296296]),\n",
              " 'param_C': masked_array(data=[1, 10, 100, 100, 1, 1, 1, 1, 1, 1, 10, 10, 10, 10, 100,\n",
              "                    100, 100, 100, 100, 100, 100, 100],\n",
              "              mask=[False, False, False, False, False, False, False, False,\n",
              "                    False, False, False, False, False, False, False, False,\n",
              "                    False, False, False, False, False, False],\n",
              "        fill_value='?',\n",
              "             dtype=object),\n",
              " 'param_degree': masked_array(data=[--, --, --, --, 2, 3, --, --, --, --, --, --, --, --,\n",
              "                    --, --, --, --, --, --, --, --],\n",
              "              mask=[ True,  True,  True,  True, False, False,  True,  True,\n",
              "                     True,  True,  True,  True,  True,  True,  True,  True,\n",
              "                     True,  True,  True,  True,  True,  True],\n",
              "        fill_value='?',\n",
              "             dtype=object),\n",
              " 'param_gamma': masked_array(data=[--, --, --, --, --, --, 1, 0.1, 0.01, 0.001, 1, 0.1,\n",
              "                    0.01, 0.001, 1, 0.1, 0.01, 0.001, 1, 0.1, 0.01, 0.001],\n",
              "              mask=[ True,  True,  True,  True,  True,  True, False, False,\n",
              "                    False, False, False, False, False, False, False, False,\n",
              "                    False, False, False, False, False, False],\n",
              "        fill_value='?',\n",
              "             dtype=object),\n",
              " 'param_kernel': masked_array(data=['linear', 'linear', 'linear', 'linear', 'poly', 'poly',\n",
              "                    'rbf', 'rbf', 'rbf', 'rbf', 'rbf', 'rbf', 'rbf', 'rbf',\n",
              "                    'rbf', 'rbf', 'rbf', 'rbf', 'rbf', 'rbf', 'rbf', 'rbf'],\n",
              "              mask=[False, False, False, False, False, False, False, False,\n",
              "                    False, False, False, False, False, False, False, False,\n",
              "                    False, False, False, False, False, False],\n",
              "        fill_value='?',\n",
              "             dtype=object),\n",
              " 'params': [{'C': 1, 'kernel': 'linear'},\n",
              "  {'C': 10, 'kernel': 'linear'},\n",
              "  {'C': 100, 'kernel': 'linear'},\n",
              "  {'C': 100, 'kernel': 'linear'},\n",
              "  {'C': 1, 'degree': 2, 'kernel': 'poly'},\n",
              "  {'C': 1, 'degree': 3, 'kernel': 'poly'},\n",
              "  {'C': 1, 'gamma': 1, 'kernel': 'rbf'},\n",
              "  {'C': 1, 'gamma': 0.1, 'kernel': 'rbf'},\n",
              "  {'C': 1, 'gamma': 0.01, 'kernel': 'rbf'},\n",
              "  {'C': 1, 'gamma': 0.001, 'kernel': 'rbf'},\n",
              "  {'C': 10, 'gamma': 1, 'kernel': 'rbf'},\n",
              "  {'C': 10, 'gamma': 0.1, 'kernel': 'rbf'},\n",
              "  {'C': 10, 'gamma': 0.01, 'kernel': 'rbf'},\n",
              "  {'C': 10, 'gamma': 0.001, 'kernel': 'rbf'},\n",
              "  {'C': 100, 'gamma': 1, 'kernel': 'rbf'},\n",
              "  {'C': 100, 'gamma': 0.1, 'kernel': 'rbf'},\n",
              "  {'C': 100, 'gamma': 0.01, 'kernel': 'rbf'},\n",
              "  {'C': 100, 'gamma': 0.001, 'kernel': 'rbf'},\n",
              "  {'C': 100, 'gamma': 1, 'kernel': 'rbf'},\n",
              "  {'C': 100, 'gamma': 0.1, 'kernel': 'rbf'},\n",
              "  {'C': 100, 'gamma': 0.01, 'kernel': 'rbf'},\n",
              "  {'C': 100, 'gamma': 0.001, 'kernel': 'rbf'}],\n",
              " 'rank_test_score': array([ 3, 18,  3,  3,  3, 11, 18, 11, 21, 22,  3, 11,  3, 20, 11, 11,  3,\n",
              "         1, 11, 11,  3,  1], dtype=int32),\n",
              " 'split0_test_score': array([1.        , 0.96296296, 1.        , 1.        , 1.        ,\n",
              "        1.        , 0.96296296, 1.        , 0.96296296, 0.85185185,\n",
              "        0.96296296, 1.        , 1.        , 0.96296296, 0.96296296,\n",
              "        0.96296296, 0.96296296, 1.        , 0.96296296, 0.96296296,\n",
              "        0.96296296, 1.        ]),\n",
              " 'split1_test_score': array([0.92592593, 0.96296296, 0.96296296, 0.96296296, 0.96296296,\n",
              "        0.96296296, 0.92592593, 0.92592593, 0.92592593, 0.92592593,\n",
              "        0.92592593, 0.96296296, 0.92592593, 0.92592593, 0.92592593,\n",
              "        0.96296296, 1.        , 0.92592593, 0.92592593, 0.96296296,\n",
              "        1.        , 0.92592593]),\n",
              " 'split2_test_score': array([0.88888889, 0.85185185, 0.88888889, 0.88888889, 0.85185185,\n",
              "        0.85185185, 0.88888889, 0.85185185, 0.88888889, 0.92592593,\n",
              "        0.92592593, 0.85185185, 0.88888889, 0.88888889, 0.92592593,\n",
              "        0.88888889, 0.88888889, 0.92592593, 0.92592593, 0.88888889,\n",
              "        0.88888889, 0.92592593]),\n",
              " 'split3_test_score': array([0.96296296, 0.92592593, 0.92592593, 0.92592593, 0.96296296,\n",
              "        0.92592593, 0.92592593, 0.96296296, 0.85185185, 0.85185185,\n",
              "        0.96296296, 0.92592593, 0.96296296, 0.88888889, 0.92592593,\n",
              "        0.92592593, 0.92592593, 0.96296296, 0.92592593, 0.92592593,\n",
              "        0.92592593, 0.96296296]),\n",
              " 'split4_test_score': array([1., 1., 1., 1., 1., 1., 1., 1., 1., 1., 1., 1., 1., 1., 1., 1., 1.,\n",
              "        1., 1., 1., 1., 1.]),\n",
              " 'std_fit_time': array([6.75126990e-05, 6.48853846e-04, 2.88105674e-03, 1.03703652e-04,\n",
              "        4.75259555e-05, 1.09818548e-04, 2.10339809e-03, 5.80149176e-05,\n",
              "        3.78197904e-03, 9.51277479e-04, 1.52480818e-04, 4.34288106e-04,\n",
              "        2.72648507e-04, 9.15467737e-05, 7.12289381e-05, 8.08587604e-05,\n",
              "        3.08312744e-05, 1.01478486e-03, 7.49205590e-04, 8.43220689e-05,\n",
              "        3.24195514e-04, 2.44599773e-04]),\n",
              " 'std_score_time': array([1.68503031e-03, 6.71905688e-05, 1.14579713e-04, 4.91421352e-05,\n",
              "        9.02131112e-04, 3.25647313e-05, 5.58549958e-05, 3.19830859e-05,\n",
              "        4.69574455e-05, 4.25907549e-04, 2.96539811e-05, 4.03255115e-04,\n",
              "        6.54333525e-05, 1.61559860e-05, 1.38765070e-04, 5.62195661e-05,\n",
              "        1.28804300e-05, 4.12494735e-05, 8.54003215e-04, 2.56292117e-04,\n",
              "        6.30436792e-05, 1.86376006e-03]),\n",
              " 'std_test_score': array([0.04319224, 0.05023948, 0.04319224, 0.04319224, 0.05443311,\n",
              "        0.05543196, 0.03777051, 0.05543196, 0.05237828, 0.05543196,\n",
              "        0.02771598, 0.05543196, 0.04319224, 0.04319224, 0.02962963,\n",
              "        0.03777051, 0.04319224, 0.03312693, 0.02962963, 0.03777051,\n",
              "        0.04319224, 0.03312693])}"
            ]
          },
          "metadata": {
            "tags": []
          },
          "execution_count": 52
        }
      ]
    },
    {
      "cell_type": "code",
      "metadata": {
        "id": "S0_477SaP1Sp"
      },
      "source": [
        ""
      ],
      "execution_count": null,
      "outputs": []
    },
    {
      "cell_type": "code",
      "metadata": {
        "id": "azsytmDpPukY"
      },
      "source": [
        ""
      ],
      "execution_count": null,
      "outputs": []
    }
  ]
}